{
 "cells": [
  {
   "cell_type": "code",
   "execution_count": 1,
   "metadata": {},
   "outputs": [],
   "source": [
    "import numpy as np\n",
    "\n",
    "data=np.load('data.npy')\n",
    "target=np.load('target.npy')\n",
    "\n",
    "#loading the save numpy arrays in the previous code"
   ]
  },
  {
   "cell_type": "code",
   "execution_count": 2,
   "metadata": {},
   "outputs": [
    {
     "name": "stderr",
     "output_type": "stream",
     "text": [
      "Using TensorFlow backend.\n"
     ]
    }
   ],
   "source": [
    "from keras.models import Sequential\n",
    "from keras.layers import Dense,Activation,Flatten,Dropout\n",
    "from keras.layers import Conv2D,MaxPooling2D\n",
    "from keras.callbacks import ModelCheckpoint\n",
    "\n",
    "model=Sequential()\n",
    "\n",
    "model.add(Conv2D(200,(3,3),input_shape=data.shape[1:]))\n",
    "model.add(Activation('relu'))\n",
    "model.add(MaxPooling2D(pool_size=(2,2)))\n",
    "#The first CNN layer followed by Relu and MaxPooling layers\n",
    "\n",
    "model.add(Conv2D(100,(3,3)))\n",
    "model.add(Activation('relu'))\n",
    "model.add(MaxPooling2D(pool_size=(2,2)))\n",
    "#The second convolution layer followed by Relu and MaxPooling layers\n",
    "\n",
    "model.add(Flatten())\n",
    "model.add(Dropout(0.5))\n",
    "#Flatten layer to stack the output convolutions from second convolution layer\n",
    "#umang (01/04)\n",
    "model.add(Dense(50,activation='relu'))\n",
    "#Dense layer of 64 neurons\n",
    "model.add(Dense(2,activation='softmax'))\n",
    "#The Final layer with (umang 01/04 apr) two outputs for two categories\n",
    "\n",
    "model.compile(loss='categorical_crossentropy',optimizer='adam',metrics=['accuracy'])"
   ]
  },
  {
   "cell_type": "code",
   "execution_count": 3,
   "metadata": {},
   "outputs": [],
   "source": [
    "from sklearn.model_selection import train_test_split\n",
    "\n",
    "train_data,test_data,train_target,test_target=train_test_split(data,target,test_size=0.1)"
   ]
  },
  {
   "cell_type": "code",
   "execution_count": 4,
   "metadata": {},
   "outputs": [
    {
     "name": "stdout",
     "output_type": "stream",
     "text": [
      "Train on 1188 samples, validate on 298 samples\n",
      "Epoch 1/20\n",
      "1188/1188 [==============================] - 199s 167ms/step - loss: 0.6973 - accuracy: 0.5362 - val_loss: 0.6570 - val_accuracy: 0.6510\n",
      "Epoch 2/20\n",
      "1188/1188 [==============================] - 188s 159ms/step - loss: 0.5522 - accuracy: 0.7247 - val_loss: 0.4473 - val_accuracy: 0.7785\n",
      "Epoch 3/20\n",
      "1188/1188 [==============================] - 186s 157ms/step - loss: 0.3899 - accuracy: 0.8392 - val_loss: 0.4439 - val_accuracy: 0.8188\n",
      "Epoch 4/20\n",
      "1188/1188 [==============================] - 185s 156ms/step - loss: 0.2784 - accuracy: 0.8948 - val_loss: 0.4403 - val_accuracy: 0.8154\n",
      "Epoch 5/20\n",
      "1188/1188 [==============================] - 195s 165ms/step - loss: 0.2642 - accuracy: 0.8956 - val_loss: 0.3261 - val_accuracy: 0.8758\n",
      "Epoch 6/20\n",
      "1188/1188 [==============================] - 185s 156ms/step - loss: 0.2492 - accuracy: 0.9040 - val_loss: 0.3430 - val_accuracy: 0.8557\n",
      "Epoch 7/20\n",
      "1188/1188 [==============================] - 184s 155ms/step - loss: 0.1740 - accuracy: 0.9301 - val_loss: 0.3492 - val_accuracy: 0.8725\n",
      "Epoch 8/20\n",
      "1188/1188 [==============================] - 184s 155ms/step - loss: 0.1501 - accuracy: 0.9436 - val_loss: 0.3126 - val_accuracy: 0.8859\n",
      "Epoch 9/20\n",
      "1188/1188 [==============================] - 184s 155ms/step - loss: 0.1187 - accuracy: 0.9571 - val_loss: 0.2894 - val_accuracy: 0.8893\n",
      "Epoch 10/20\n",
      "1188/1188 [==============================] - 193s 163ms/step - loss: 0.1000 - accuracy: 0.9579 - val_loss: 0.2879 - val_accuracy: 0.8826\n",
      "Epoch 11/20\n",
      "1188/1188 [==============================] - 187s 157ms/step - loss: 0.1264 - accuracy: 0.9495 - val_loss: 0.2831 - val_accuracy: 0.8993\n",
      "Epoch 12/20\n",
      "1188/1188 [==============================] - 186s 157ms/step - loss: 0.0772 - accuracy: 0.9722 - val_loss: 0.3135 - val_accuracy: 0.8960\n",
      "Epoch 13/20\n",
      "1188/1188 [==============================] - 186s 157ms/step - loss: 0.0662 - accuracy: 0.9722 - val_loss: 0.2990 - val_accuracy: 0.8993\n",
      "Epoch 14/20\n",
      "1188/1188 [==============================] - 182s 154ms/step - loss: 0.0556 - accuracy: 0.9798 - val_loss: 0.3119 - val_accuracy: 0.8926\n",
      "Epoch 15/20\n",
      "1188/1188 [==============================] - 185s 156ms/step - loss: 0.0441 - accuracy: 0.9815 - val_loss: 0.3532 - val_accuracy: 0.8893\n",
      "Epoch 16/20\n",
      "1188/1188 [==============================] - 185s 156ms/step - loss: 0.0445 - accuracy: 0.9806 - val_loss: 0.5897 - val_accuracy: 0.8523\n",
      "Epoch 17/20\n",
      "1188/1188 [==============================] - 184s 155ms/step - loss: 0.0536 - accuracy: 0.9781 - val_loss: 0.3271 - val_accuracy: 0.9060\n",
      "Epoch 18/20\n",
      "1188/1188 [==============================] - 184s 155ms/step - loss: 0.0411 - accuracy: 0.9857 - val_loss: 0.2900 - val_accuracy: 0.9128\n",
      "Epoch 19/20\n",
      "1188/1188 [==============================] - 185s 156ms/step - loss: 0.0399 - accuracy: 0.9874 - val_loss: 0.3155 - val_accuracy: 0.9060\n",
      "Epoch 20/20\n",
      "1188/1188 [==============================] - 186s 157ms/step - loss: 0.0446 - accuracy: 0.9823 - val_loss: 0.3138 - val_accuracy: 0.8993\n"
     ]
    }
   ],
   "source": [
    "checkpoint = ModelCheckpoint('model-{epoch:03d}.model',monitor='val_loss',verbose=0,save_best_only=True,mode='auto')\n",
    "history=model.fit(train_data,train_target,epochs=20,callbacks=[checkpoint],validation_split=0.2)"
   ]
  },
  {
   "cell_type": "code",
   "execution_count": 5,
   "metadata": {},
   "outputs": [
    {
     "data": {
      "image/png": "[encoded data removed]",
      "text/plain": [
       "<Figure size 432x288 with 1 Axes>"
      ]
     },
     "metadata": {
      "needs_background": "light"
     },
     "output_type": "display_data"
    }
   ],
   "source": [
    "from matplotlib import pyplot as plt\n",
    "\n",
    "plt.plot(history.history['loss'],'r',label='training loss')\n",
    "plt.plot(history.history['val_loss'],label='validation loss')\n",
    "plt.xlabel('# epochs')\n",
    "plt.ylabel('loss')\n",
    "plt.legend()\n",
    "plt.show()"
   ]
  },
  {
   "cell_type": "code",
   "execution_count": 6,
   "metadata": {},
   "outputs": [
    {
     "data": {
      "image/png": "[encoded data removed]",
      "text/plain": [
       "<Figure size 432x288 with 1 Axes>"
      ]
     },
     "metadata": {
      "needs_background": "light"
     },
     "output_type": "display_data"
    }
   ],
   "source": [
    "plt.plot(history.history['accuracy'],'r',label='training accuracy')\n",
    "plt.plot(history.history['val_accuracy'],label='validation accuracy')\n",
    "plt.xlabel('# epochs')\n",
    "plt.ylabel('loss')\n",
    "plt.legend()\n",
    "plt.show()"
   ]
  },
  {
   "cell_type": "code",
   "execution_count": 7,
   "metadata": {},
   "outputs": [
    {
     "name": "stdout",
     "output_type": "stream",
     "text": [
      "138/138 [==============================] - 5s 36ms/step\n",
      "[0.2662199637380199, 0.9275362491607666]\n"
     ]
    }
   ],
   "source": [
    "print(model.evaluate(test_data,test_target))"
   ]
  },
  {
   "cell_type": "code",
   "execution_count": 7,
   "metadata": {},
   "outputs": [
    {
     "name": "stdout",
     "output_type": "stream",
     "text": [
      "Model: \"sequential_1\"\n",
      "_________________________________________________________________\n",
      "Layer (type)                 Output Shape              Param #   \n",
      "=================================================================\n",
      "conv2d_1 (Conv2D)            (None, 98, 98, 200)       2000      \n",
      "_________________________________________________________________\n",
      "activation_1 (Activation)    (None, 98, 98, 200)       0         \n",
      "_________________________________________________________________\n",
      "max_pooling2d_1 (MaxPooling2 (None, 49, 49, 200)       0         \n",
      "_________________________________________________________________\n",
      "conv2d_2 (Conv2D)            (None, 47, 47, 100)       180100    \n",
      "_________________________________________________________________\n",
      "activation_2 (Activation)    (None, 47, 47, 100)       0         \n",
      "_________________________________________________________________\n",
      "max_pooling2d_2 (MaxPooling2 (None, 23, 23, 100)       0         \n",
      "_________________________________________________________________\n",
      "flatten_1 (Flatten)          (None, 52900)             0         \n",
      "_________________________________________________________________\n",
      "dropout_1 (Dropout)          (None, 52900)             0         \n",
      "_________________________________________________________________\n",
      "dense_1 (Dense)              (None, 50)                2645050   \n",
      "_________________________________________________________________\n",
      "dense_2 (Dense)              (None, 2)                 102       \n",
      "=================================================================\n",
      "Total params: 2,827,252\n",
      "Trainable params: 2,827,252\n",
      "Non-trainable params: 0\n",
      "_________________________________________________________________\n"
     ]
    }
   ],
   "source": [
    "model.summary()"
   ]
  },
  {
   "cell_type": "code",
   "execution_count": null,
   "metadata": {},
   "outputs": [],
   "source": [
    "\n",
    "  "
   ]
  }
 ],
 "metadata": {
  "kernelspec": {
   "display_name": "Python 3",
   "language": "python",
   "name": "python3"
  },
  "language_info": {
   "codemirror_mode": {
    "name": "ipython",
    "version": 3
   },
   "file_extension": ".py",
   "mimetype": "text/x-python",
   "name": "python",
   "nbconvert_exporter": "python",
   "pygments_lexer": "ipython3",
   "version": "3.7.6"
  }
 },
 "nbformat": 4,
 "nbformat_minor": 2
}
